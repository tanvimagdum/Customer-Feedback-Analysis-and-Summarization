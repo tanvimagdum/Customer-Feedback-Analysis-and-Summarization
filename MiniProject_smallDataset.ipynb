{
  "nbformat": 4,
  "nbformat_minor": 0,
  "metadata": {
    "colab": {
      "provenance": [],
      "authorship_tag": "ABX9TyMA6l3sZTaPyOxBXMGuN3/K",
      "include_colab_link": true
    },
    "kernelspec": {
      "name": "python3",
      "display_name": "Python 3"
    },
    "language_info": {
      "name": "python"
    }
  },
  "cells": [
    {
      "cell_type": "markdown",
      "metadata": {
        "id": "view-in-github",
        "colab_type": "text"
      },
      "source": [
        "<a href=\"https://colab.research.google.com/github/tanvimagdum/Customer-Feedback-Analysis-and-Summarization/blob/main/MiniProject_smallDataset.ipynb\" target=\"_parent\"><img src=\"https://colab.research.google.com/assets/colab-badge.svg\" alt=\"Open In Colab\"/></a>"
      ]
    },
    {
      "cell_type": "code",
      "execution_count": 1,
      "metadata": {
        "colab": {
          "base_uri": "https://localhost:8080/"
        },
        "id": "ed_ANo6mRJnV",
        "outputId": "eb6820ed-0330-46aa-98dc-62a24b2ca168"
      },
      "outputs": [
        {
          "output_type": "stream",
          "name": "stdout",
          "text": [
            "Downloading from https://www.kaggle.com/api/v1/datasets/download/datafiniti/consumer-reviews-of-amazon-products?dataset_version_number=5...\n"
          ]
        },
        {
          "output_type": "stream",
          "name": "stderr",
          "text": [
            "100%|██████████| 16.3M/16.3M [00:00<00:00, 66.5MB/s]"
          ]
        },
        {
          "output_type": "stream",
          "name": "stdout",
          "text": [
            "Extracting files...\n"
          ]
        },
        {
          "output_type": "stream",
          "name": "stderr",
          "text": [
            "\n"
          ]
        },
        {
          "output_type": "stream",
          "name": "stdout",
          "text": [
            "Path to dataset files: /root/.cache/kagglehub/datasets/datafiniti/consumer-reviews-of-amazon-products/versions/5\n"
          ]
        }
      ],
      "source": [
        "import kagglehub\n",
        "\n",
        "# Download latest version\n",
        "path = kagglehub.dataset_download(\"datafiniti/consumer-reviews-of-amazon-products\")\n",
        "\n",
        "print(\"Path to dataset files:\", path)"
      ]
    },
    {
      "cell_type": "code",
      "source": [
        "from pyspark.sql import SparkSession\n",
        "spark = SparkSession.builder.appName(\"AmazonReviewsAnalysis\").config(\"spark.driver.memory\", \"16g\").getOrCreate()\n",
        "df = spark.read.csv(path, sep=\",\", header=True, inferSchema=True)\n",
        "df.printSchema()\n",
        "df.show(5)"
      ],
      "metadata": {
        "colab": {
          "base_uri": "https://localhost:8080/"
        },
        "id": "k3g7f4PGRPgn",
        "outputId": "04a7b8e0-e49f-4f70-f5a6-afd9be803b31"
      },
      "execution_count": 7,
      "outputs": [
        {
          "output_type": "stream",
          "name": "stdout",
          "text": [
            "root\n",
            " |-- id: string (nullable = true)\n",
            " |-- dateAdded: string (nullable = true)\n",
            " |-- dateUpdated: string (nullable = true)\n",
            " |-- name: string (nullable = true)\n",
            " |-- asins: string (nullable = true)\n",
            " |-- brand: string (nullable = true)\n",
            " |-- categories: string (nullable = true)\n",
            " |-- primaryCategories: string (nullable = true)\n",
            " |-- imageURLs: string (nullable = true)\n",
            " |-- keys: string (nullable = true)\n",
            " |-- manufacturer: string (nullable = true)\n",
            " |-- manufacturerNumber: string (nullable = true)\n",
            " |-- reviews.date: string (nullable = true)\n",
            " |-- reviews.dateSeen: string (nullable = true)\n",
            " |-- reviews.didPurchase: string (nullable = true)\n",
            " |-- reviews.doRecommend: string (nullable = true)\n",
            " |-- reviews.id: string (nullable = true)\n",
            " |-- reviews.numHelpful: string (nullable = true)\n",
            " |-- reviews.rating: string (nullable = true)\n",
            " |-- reviews.sourceURLs: string (nullable = true)\n",
            " |-- reviews.text: string (nullable = true)\n",
            " |-- reviews.title: string (nullable = true)\n",
            " |-- reviews.username: string (nullable = true)\n",
            " |-- sourceURLs: string (nullable = true)\n",
            "\n",
            "+--------------------+--------------------+--------------------+--------------------+--------------------+------------+--------------------+-----------------+--------------------+--------------------+------------+------------------+--------------------+--------------------+-------------------+-------------------+----------+------------------+--------------+--------------------+--------------------+--------------------+----------------+--------------------+\n",
            "|                  id|           dateAdded|         dateUpdated|                name|               asins|       brand|          categories|primaryCategories|           imageURLs|                keys|manufacturer|manufacturerNumber|        reviews.date|    reviews.dateSeen|reviews.didPurchase|reviews.doRecommend|reviews.id|reviews.numHelpful|reviews.rating|  reviews.sourceURLs|        reviews.text|       reviews.title|reviews.username|          sourceURLs|\n",
            "+--------------------+--------------------+--------------------+--------------------+--------------------+------------+--------------------+-----------------+--------------------+--------------------+------------+------------------+--------------------+--------------------+-------------------+-------------------+----------+------------------+--------------+--------------------+--------------------+--------------------+----------------+--------------------+\n",
            "|AVpgNzjwLJeJML43Kpxn|2015-10-30T08:59:32Z|2019-04-25T09:08:16Z|AmazonBasics AAA ...|B00QWO9P0O,B00LH3...|Amazonbasics|AA,AAA,Health,Ele...|  Health & Beauty|https://images-na...|amazonbasics/hl00...|AmazonBasics|         HL-002619|2017-03-02T00:00:...|2017-08-28T00:00:00Z|               NULL|               NULL|      NULL|              NULL|             3|https://www.amazo...|I order 3 of them...|... 3 of them and...|      Byger yang|https://www.barco...|\n",
            "|AVpgNzjwLJeJML43Kpxn|2015-10-30T08:59:32Z|2019-04-25T09:08:16Z|AmazonBasics AAA ...|B00QWO9P0O,B00LH3...|Amazonbasics|AA,AAA,Health,Ele...|  Health & Beauty|https://images-na...|amazonbasics/hl00...|AmazonBasics|         HL-002619|2016-08-31T00:00:...|2017-08-28T00:00:00Z|               NULL|               NULL|      NULL|              NULL|             4|https://www.amazo...|Bulk is always th...|... always the le...|            ByMG|https://www.barco...|\n",
            "|AVpgNzjwLJeJML43Kpxn|2015-10-30T08:59:32Z|2019-04-25T09:08:16Z|AmazonBasics AAA ...|B00QWO9P0O,B00LH3...|Amazonbasics|AA,AAA,Health,Ele...|  Health & Beauty|https://images-na...|amazonbasics/hl00...|AmazonBasics|         HL-002619|2016-12-06T00:00:...|2017-08-28T00:00:00Z|               NULL|               NULL|      NULL|              NULL|             5|https://www.amazo...|Well they are not...|... are not Durac...|BySharon Lambert|https://www.barco...|\n",
            "|AVpgNzjwLJeJML43Kpxn|2015-10-30T08:59:32Z|2019-04-25T09:08:16Z|AmazonBasics AAA ...|B00QWO9P0O,B00LH3...|Amazonbasics|AA,AAA,Health,Ele...|  Health & Beauty|https://images-na...|amazonbasics/hl00...|AmazonBasics|         HL-002619|2016-03-28T00:00:...|2017-08-28T00:00:00Z|               NULL|               NULL|      NULL|              NULL|             5|https://www.amazo...|Seem to work as w...|... as well as na...|   Bymark sexson|https://www.barco...|\n",
            "|AVpgNzjwLJeJML43Kpxn|2015-10-30T08:59:32Z|2019-04-25T09:08:16Z|AmazonBasics AAA ...|B00QWO9P0O,B00LH3...|Amazonbasics|AA,AAA,Health,Ele...|  Health & Beauty|https://images-na...|amazonbasics/hl00...|AmazonBasics|         HL-002619|2017-04-22T00:00:...|2017-08-28T00:00:00Z|               NULL|               NULL|      NULL|              NULL|             5|https://www.amazo...|These batteries a...|... batteries are...|         Bylinda|https://www.barco...|\n",
            "+--------------------+--------------------+--------------------+--------------------+--------------------+------------+--------------------+-----------------+--------------------+--------------------+------------+------------------+--------------------+--------------------+-------------------+-------------------+----------+------------------+--------------+--------------------+--------------------+--------------------+----------------+--------------------+\n",
            "only showing top 5 rows\n",
            "\n"
          ]
        }
      ]
    },
    {
      "cell_type": "code",
      "source": [
        "# Data Preprocessing\n",
        "\n",
        "from pyspark.sql.functions import col, lower, regexp_replace, length, length, trim, when, size\n",
        "from pyspark.ml.feature import Tokenizer, StopWordsRemover\n",
        "\n",
        "# Convert text to lowercase and remove punctuation\n",
        "df_cleaned = df.withColumn(\"`reviews.text`\", lower(col(\"`reviews.text`\")))\n",
        "df_cleaned = df_cleaned.withColumn(\"`reviews.text`\", regexp_replace(col(\"`reviews.text`\"), \"[^a-zA-Z0-9\\\\s]\", \"\"))\n",
        "\n",
        "# Tokenization\n",
        "tokenizer = Tokenizer(inputCol=\"`reviews.text`\", outputCol=\"tokens\")\n",
        "df_tokenized = tokenizer.transform(df_cleaned)\n",
        "\n",
        "# Remove stop words\n",
        "remover = StopWordsRemover(inputCol=\"tokens\", outputCol=\"filtered_tokens\")\n",
        "df_filtered = remover.transform(df_tokenized)\n",
        "\n",
        "# Filter Reviews by Ratings\n",
        "df_positive = df_filtered.filter(col(\"`reviews.rating`\") >= 4)\n",
        "df_negative = df_filtered.filter(col(\"`reviews.rating`\") <= 2)\n",
        "\n",
        "# Filter out NULL and empty values in review_body\n",
        "df_filtered = df_filtered.filter(col(\"`reviews.text`\").isNotNull())\n",
        "df_filtered = df_filtered.filter(length(trim(col(\"`reviews.text`\"))) > 0)\n",
        "\n",
        "# Add Sentiment Column\n",
        "df_filtered = df_filtered.withColumn(\n",
        "    \"sentiment\",\n",
        "    when(col(\"`reviews.rating`\") >= 4, \"positive\")\n",
        "    .when(col(\"`reviews.rating`\") <= 2, \"negative\")\n",
        "    .otherwise(\"neutral\")\n",
        ")\n",
        "\n",
        "# Remove rows with empty filtered_tokens\n",
        "df_filtered = df_filtered.filter(size(col(\"filtered_tokens\")) > 0)\n"
      ],
      "metadata": {
        "id": "dhtzmmfzR1jM"
      },
      "execution_count": 5,
      "outputs": []
    },
    {
      "cell_type": "code",
      "source": [
        "from pyspark.sql.functions import col, lower, regexp_replace, when, size, concat_ws, round\n",
        "from pyspark.ml.feature import Tokenizer, StopWordsRemover, CountVectorizer\n",
        "from pyspark.ml.classification import LogisticRegression\n",
        "from pyspark.ml.evaluation import MulticlassClassificationEvaluator\n",
        "\n",
        "# Data Loading (Assuming df_cleaned is already created as per the provided script)\n",
        "\n",
        "# Step 1: Split Dataset\n",
        "train_data, test_data = df_filtered.randomSplit([0.8, 0.2], seed=42)  # 80-20 split\n",
        "\n",
        "# Step 2: Fit CountVectorizer on Training Data\n",
        "cv = CountVectorizer(inputCol=\"filtered_tokens\", outputCol=\"key_phrases\", vocabSize=50)\n",
        "cv_model = cv.fit(train_data)\n",
        "\n",
        "# Transform both training and testing data\n",
        "train_transformed = cv_model.transform(train_data)\n",
        "test_transformed = cv_model.transform(test_data)\n",
        "\n",
        "# Step 3: Train a Classifier\n",
        "# Add numeric labels for sentiment\n",
        "train_transformed = train_transformed.withColumn(\n",
        "    \"label\",\n",
        "    when(col(\"sentiment\") == \"positive\", 1.0)\n",
        "    .when(col(\"sentiment\") == \"negative\", 0.0)\n",
        "    .otherwise(2.0)  # Neutral\n",
        ")\n",
        "\n",
        "test_transformed = test_transformed.withColumn(\n",
        "    \"label\",\n",
        "    when(col(\"sentiment\") == \"positive\", 1.0)\n",
        "    .when(col(\"sentiment\") == \"negative\", 0.0)\n",
        "    .otherwise(2.0)  # Neutral\n",
        ")\n",
        "\n",
        "# Train a Logistic Regression Model\n",
        "lr = LogisticRegression(featuresCol=\"key_phrases\", labelCol=\"label\")\n",
        "lr_model = lr.fit(train_transformed)\n",
        "\n",
        "# Step 4: Make Predictions\n",
        "predictions = lr_model.transform(test_transformed)\n",
        "\n",
        "# Step 5: Evaluate the Model\n",
        "evaluator = MulticlassClassificationEvaluator(\n",
        "    labelCol=\"label\", predictionCol=\"prediction\", metricName=\"accuracy\"\n",
        ")\n",
        "accuracy = evaluator.evaluate(predictions)\n",
        "\n",
        "# Print Predictions and Accuracy\n",
        "predictions.select(\"primaryCategories\", \"sentiment\", \"prediction\").show(10, truncate=False)\n",
        "print(f\"Model Accuracy: {accuracy:.2f}\")\n"
      ],
      "metadata": {
        "colab": {
          "base_uri": "https://localhost:8080/"
        },
        "id": "gQmPQsAcTIc6",
        "outputId": "f0c4741e-6fa4-4d6d-8482-46cc61fa8ffb"
      },
      "execution_count": 8,
      "outputs": [
        {
          "output_type": "stream",
          "name": "stdout",
          "text": [
            "+-----------------+---------+----------+\n",
            "|primaryCategories|sentiment|prediction|\n",
            "+-----------------+---------+----------+\n",
            "|Electronics,Media|positive |1.0       |\n",
            "|Electronics      |positive |1.0       |\n",
            "|Electronics      |positive |1.0       |\n",
            "|Electronics      |negative |1.0       |\n",
            "|Electronics      |positive |2.0       |\n",
            "|Health & Beauty  |positive |1.0       |\n",
            "|Health & Beauty  |positive |1.0       |\n",
            "|Health & Beauty  |positive |2.0       |\n",
            "|Health & Beauty  |negative |1.0       |\n",
            "|Health & Beauty  |positive |1.0       |\n",
            "+-----------------+---------+----------+\n",
            "only showing top 10 rows\n",
            "\n",
            "Model Accuracy: 0.88\n"
          ]
        }
      ]
    },
    {
      "cell_type": "code",
      "source": [
        "print(f\"Model Accuracy: {accuracy:.2f}\")"
      ],
      "metadata": {
        "colab": {
          "base_uri": "https://localhost:8080/"
        },
        "id": "YNiDuvPmVD-P",
        "outputId": "67f40f9b-d6cf-4c83-8ad9-1856c87f97cf"
      },
      "execution_count": 9,
      "outputs": [
        {
          "output_type": "stream",
          "name": "stdout",
          "text": [
            "Model Accuracy: 0.88\n"
          ]
        }
      ]
    },
    {
      "cell_type": "code",
      "source": [
        "from pyspark.sql.functions import concat_ws\n",
        "\n",
        "# Combine tokens back to sentences\n",
        "df_filtered = df_filtered.withColumn(\"summary\", concat_ws(\" \", col(\"filtered_tokens\")))\n",
        "\n",
        "# Summaries for each sentiment\n",
        "df_positive_summary = df_filtered.filter(col(\"sentiment\") == \"positive\").select(\"summary\").show(10, truncate=False)\n",
        "df_negative_summary = df_filtered.filter(col(\"sentiment\") == \"negative\").select(\"summary\").show(10, truncate=False)"
      ],
      "metadata": {
        "colab": {
          "base_uri": "https://localhost:8080/"
        },
        "id": "jfvQCxQgVHdk",
        "outputId": "fffa863b-fe81-4966-9ae9-a78a31063a0f"
      },
      "execution_count": 10,
      "outputs": [
        {
          "output_type": "stream",
          "name": "stdout",
          "text": [
            "+--------------------------------------------------------------------------------------------------------------------------------------------------------------------+\n",
            "|summary                                                                                                                                                             |\n",
            "+--------------------------------------------------------------------------------------------------------------------------------------------------------------------+\n",
            "|bulk always less expensive way go products like                                                                                                                     |\n",
            "|well duracell price happy.                                                                                                                                          |\n",
            "|seem work well name brand batteries much better price                                                                                                               |\n",
            "|batteries long lasting price great.                                                                                                                                 |\n",
            "|bought lot batteries christmas amazonbasics cell good. noticed difference brand name batteries amazon basic brand. lot easier purchase arrive house hand. buy again.|\n",
            "|ive problame batteries ordered past pleased.                                                                                                                        |\n",
            "|well looking cheap non-rechargeable batteries last quite perfect. nothing say.                                                                                      |\n",
            "|amazonbasics aa aaa batteries done well appear good shelf life. buy again.                                                                                          |\n",
            "|find amazon basics batteries equal superior name brand ones. believe start buying sooner! packages large price great too.                                           |\n",
            "|use fish tank's light night works great, love easily switch want guests there.                                                                                      |\n",
            "+--------------------------------------------------------------------------------------------------------------------------------------------------------------------+\n",
            "only showing top 10 rows\n",
            "\n",
            "+-------------------------------------------------------------------------------------------------------------------------------------------------------------------------------------------------------------------------------------------------------------------------------------------------------------+\n",
            "|summary                                                                                                                                                                                                                                                                                                      |\n",
            "+-------------------------------------------------------------------------------------------------------------------------------------------------------------------------------------------------------------------------------------------------------------------------------------------------------------+\n",
            "|know buy thus brand seems like last long duracell                                                                                                                                                                                                                                                            |\n",
            "|opinion last anywhere near long duracel things like led candles (which crazy) trail cameras. cameras exposed cold temps less batteries. buy bulk north house. amazon basics great things like sheets beeding towels. opinion battery life, large package aaa aa size purchased lacking.                      |\n",
            "|last long cheap batteries happy                                                                                                                                                                                                                                                                              |\n",
            "|batteries horrible. depend aa batteries many wireless microphone found brand-name batteries last month per usage. switched amazon basics try subscription preferred brand longer available found that, usage, batteries last week. 1/4 capacity.                                                             |\n",
            "|first time bought worked well lasted almost long name brands. time around, almost charge - 4-6 hours run time - junk batteries.                                                                                                                                                                              |\n",
            "|batteries last even simple digital clock. 2 weeks best.                                                                                                                                                                                                                                                      |\n",
            "|date back 1992. yeah, 1992. inedible.                                                                                                                                                                                                                                                                        |\n",
            "|battery storage life lasted 8 months (stored indoors).                                                                                                                                                                                                                                                       |\n",
            "|possible gotten dud batch sure got it. blew batteries less month. kids toys super powered even remotes change batteries way often. example magic touch counting toy, store batteries lasted 3 years. popped amazon batteries, 1 month second child play nearly much first. price worth try going back brands.|\n",
            "|use indoor flameless candles even then, dont last long...a little disappointed...                                                                                                                                                                                                                            |\n",
            "+-------------------------------------------------------------------------------------------------------------------------------------------------------------------------------------------------------------------------------------------------------------------------------------------------------------+\n",
            "only showing top 10 rows\n",
            "\n"
          ]
        }
      ]
    },
    {
      "cell_type": "code",
      "source": [
        "insights = df_filtered.groupBy(\"primaryCategories\", \"sentiment\").count()\n",
        "insights.show()"
      ],
      "metadata": {
        "colab": {
          "base_uri": "https://localhost:8080/"
        },
        "id": "8d_eYPy4VPey",
        "outputId": "88f7cf6a-bca3-4d71-f5fb-92814e35bb07"
      },
      "execution_count": 12,
      "outputs": [
        {
          "output_type": "stream",
          "name": "stdout",
          "text": [
            "+--------------------+---------+-----+\n",
            "|   primaryCategories|sentiment|count|\n",
            "+--------------------+---------+-----+\n",
            "|         Electronics| negative|  434|\n",
            "|Computers,Electro...|  neutral|    2|\n",
            "|   Electronics,Media|  neutral|    3|\n",
            "|     Health & Beauty| negative| 1146|\n",
            "|Computers,Electro...| positive|    2|\n",
            "|Fire Tablets,Comp...| positive|    1|\n",
            "|Office Supplies,E...|  neutral|   36|\n",
            "|Office Supplies,E...| positive|  605|\n",
            "|   Electronics,Media| negative|    5|\n",
            "|Electronics,Furni...| positive|    2|\n",
            "|Animals & Pet Sup...|  neutral|    1|\n",
            "|         Electronics|  neutral|  654|\n",
            "|     Health & Beauty| positive|10390|\n",
            "|   Electronics,Media| positive|  201|\n",
            "|Toys & Games,Elec...| positive| 1529|\n",
            "|     Health & Beauty|  neutral|  533|\n",
            "|Fire Tablets,Comp...| negative|   81|\n",
            "|Computers,Electro...| negative|   13|\n",
            "|       Home & Garden| positive|    2|\n",
            "|Animals & Pet Sup...| positive|    5|\n",
            "+--------------------+---------+-----+\n",
            "only showing top 20 rows\n",
            "\n"
          ]
        }
      ]
    },
    {
      "cell_type": "code",
      "source": [
        "from pyspark.sql.functions import col, round\n",
        "\n",
        "# Group by product_category and calculate total reviews\n",
        "total_reviews = df_filtered.groupBy(\"primaryCategories\").count().withColumnRenamed(\"count\", \"total_count\")\n",
        "\n",
        "# Join insights with total_reviews on product_category\n",
        "insights_with_totals = insights.join(total_reviews, on=\"primaryCategories\", how=\"inner\")\n",
        "\n",
        "# Add the percentage column\n",
        "sentiment_stats = insights_with_totals.withColumn(\n",
        "    \"percentage\",\n",
        "    round((col(\"count\") / col(\"total_count\")) * 100, 2)\n",
        ")\n",
        "\n",
        "# Show the result\n",
        "sentiment_stats.show()"
      ],
      "metadata": {
        "colab": {
          "base_uri": "https://localhost:8080/"
        },
        "id": "HvJU1Lq0Vo6P",
        "outputId": "67407147-c114-4e14-b40e-668e14a76592"
      },
      "execution_count": 13,
      "outputs": [
        {
          "output_type": "stream",
          "name": "stdout",
          "text": [
            "+--------------------+---------+-----+-----------+----------+\n",
            "|   primaryCategories|sentiment|count|total_count|percentage|\n",
            "+--------------------+---------+-----+-----------+----------+\n",
            "|Electronics,Furni...| positive|    2|          2|     100.0|\n",
            "|Office Supplies,E...| negative|   10|        651|      1.54|\n",
            "|Office Supplies,E...| positive|  605|        651|     92.93|\n",
            "|Office Supplies,E...|  neutral|   36|        651|      5.53|\n",
            "|         Electronics| positive|14905|      15993|      93.2|\n",
            "|         Electronics|  neutral|  654|      15993|      4.09|\n",
            "|         Electronics| negative|  434|      15993|      2.71|\n",
            "|       Home & Garden| positive|    2|          2|     100.0|\n",
            "|   Electronics,Media| positive|  201|        209|     96.17|\n",
            "|   Electronics,Media| negative|    5|        209|      2.39|\n",
            "|   Electronics,Media|  neutral|    3|        209|      1.44|\n",
            "|Toys & Games,Elec...| negative|   54|       1676|      3.22|\n",
            "|Toys & Games,Elec...|  neutral|   93|       1676|      5.55|\n",
            "|Toys & Games,Elec...| positive| 1529|       1676|     91.23|\n",
            "|     Office Supplies| positive|    9|          9|     100.0|\n",
            "|     Health & Beauty|  neutral|  533|      12069|      4.42|\n",
            "|     Health & Beauty| positive|10390|      12069|     86.09|\n",
            "|     Health & Beauty| negative| 1146|      12069|       9.5|\n",
            "|Animals & Pet Sup...| positive|    5|          6|     83.33|\n",
            "|Animals & Pet Sup...|  neutral|    1|          6|     16.67|\n",
            "+--------------------+---------+-----+-----------+----------+\n",
            "only showing top 20 rows\n",
            "\n"
          ]
        }
      ]
    }
  ]
}