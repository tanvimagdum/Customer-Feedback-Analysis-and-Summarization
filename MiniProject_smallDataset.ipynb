{
  "nbformat": 4,
  "nbformat_minor": 0,
  "metadata": {
    "colab": {
      "provenance": [],
      "authorship_tag": "ABX9TyN5oH9FZcQsB+K90Sr8AhdV",
      "include_colab_link": true
    },
    "kernelspec": {
      "name": "python3",
      "display_name": "Python 3"
    },
    "language_info": {
      "name": "python"
    }
  },
  "cells": [
    {
      "cell_type": "markdown",
      "metadata": {
        "id": "view-in-github",
        "colab_type": "text"
      },
      "source": [
        "<a href=\"https://colab.research.google.com/github/tanvimagdum/Customer-Feedback-Analysis-and-Summarization/blob/main/MiniProject_smallDataset.ipynb\" target=\"_parent\"><img src=\"https://colab.research.google.com/assets/colab-badge.svg\" alt=\"Open In Colab\"/></a>"
      ]
    },
    {
      "cell_type": "markdown",
      "source": [],
      "metadata": {
        "id": "hwhGIohXW-9l"
      }
    },
    {
      "cell_type": "code",
      "execution_count": 1,
      "metadata": {
        "colab": {
          "base_uri": "https://localhost:8080/"
        },
        "id": "ed_ANo6mRJnV",
        "outputId": "e116a056-03cd-4e90-c5eb-92b61504e139"
      },
      "outputs": [
        {
          "output_type": "stream",
          "name": "stdout",
          "text": [
            "Downloading from https://www.kaggle.com/api/v1/datasets/download/datafiniti/consumer-reviews-of-amazon-products?dataset_version_number=5...\n"
          ]
        },
        {
          "output_type": "stream",
          "name": "stderr",
          "text": [
            "100%|██████████| 16.3M/16.3M [00:00<00:00, 67.1MB/s]"
          ]
        },
        {
          "output_type": "stream",
          "name": "stdout",
          "text": [
            "Extracting files...\n"
          ]
        },
        {
          "output_type": "stream",
          "name": "stderr",
          "text": [
            "\n"
          ]
        },
        {
          "output_type": "stream",
          "name": "stdout",
          "text": [
            "Path to dataset files: /root/.cache/kagglehub/datasets/datafiniti/consumer-reviews-of-amazon-products/versions/5\n"
          ]
        }
      ],
      "source": [
        "import kagglehub\n",
        "\n",
        "# Download latest version\n",
        "path = kagglehub.dataset_download(\"datafiniti/consumer-reviews-of-amazon-products\")\n",
        "\n",
        "print(\"Path to dataset files:\", path)"
      ]
    },
    {
      "cell_type": "code",
      "source": [
        "from pyspark.sql import SparkSession\n",
        "spark = SparkSession.builder.appName(\"AmazonReviewsAnalysis\").config(\"spark.driver.memory\", \"16g\").getOrCreate()\n",
        "df = spark.read.csv(path, sep=\",\", header=True, inferSchema=True)\n",
        "df.printSchema()\n",
        "df.show(5)"
      ],
      "metadata": {
        "colab": {
          "base_uri": "https://localhost:8080/"
        },
        "id": "k3g7f4PGRPgn",
        "outputId": "c6858b07-5e47-4ad0-f9a9-20c5faed6c21"
      },
      "execution_count": 3,
      "outputs": [
        {
          "output_type": "stream",
          "name": "stdout",
          "text": [
            "root\n",
            " |-- id: string (nullable = true)\n",
            " |-- dateAdded: string (nullable = true)\n",
            " |-- dateUpdated: string (nullable = true)\n",
            " |-- name: string (nullable = true)\n",
            " |-- asins: string (nullable = true)\n",
            " |-- brand: string (nullable = true)\n",
            " |-- categories: string (nullable = true)\n",
            " |-- primaryCategories: string (nullable = true)\n",
            " |-- imageURLs: string (nullable = true)\n",
            " |-- keys: string (nullable = true)\n",
            " |-- manufacturer: string (nullable = true)\n",
            " |-- manufacturerNumber: string (nullable = true)\n",
            " |-- reviews.date: string (nullable = true)\n",
            " |-- reviews.dateSeen: string (nullable = true)\n",
            " |-- reviews.didPurchase: string (nullable = true)\n",
            " |-- reviews.doRecommend: string (nullable = true)\n",
            " |-- reviews.id: string (nullable = true)\n",
            " |-- reviews.numHelpful: string (nullable = true)\n",
            " |-- reviews.rating: string (nullable = true)\n",
            " |-- reviews.sourceURLs: string (nullable = true)\n",
            " |-- reviews.text: string (nullable = true)\n",
            " |-- reviews.title: string (nullable = true)\n",
            " |-- reviews.username: string (nullable = true)\n",
            " |-- sourceURLs: string (nullable = true)\n",
            "\n",
            "+--------------------+--------------------+--------------------+--------------------+--------------------+------------+--------------------+-----------------+--------------------+--------------------+------------+------------------+--------------------+--------------------+-------------------+-------------------+----------+------------------+--------------+--------------------+--------------------+--------------------+----------------+--------------------+\n",
            "|                  id|           dateAdded|         dateUpdated|                name|               asins|       brand|          categories|primaryCategories|           imageURLs|                keys|manufacturer|manufacturerNumber|        reviews.date|    reviews.dateSeen|reviews.didPurchase|reviews.doRecommend|reviews.id|reviews.numHelpful|reviews.rating|  reviews.sourceURLs|        reviews.text|       reviews.title|reviews.username|          sourceURLs|\n",
            "+--------------------+--------------------+--------------------+--------------------+--------------------+------------+--------------------+-----------------+--------------------+--------------------+------------+------------------+--------------------+--------------------+-------------------+-------------------+----------+------------------+--------------+--------------------+--------------------+--------------------+----------------+--------------------+\n",
            "|AVpgNzjwLJeJML43Kpxn|2015-10-30T08:59:32Z|2019-04-25T09:08:16Z|AmazonBasics AAA ...|B00QWO9P0O,B00LH3...|Amazonbasics|AA,AAA,Health,Ele...|  Health & Beauty|https://images-na...|amazonbasics/hl00...|AmazonBasics|         HL-002619|2017-03-02T00:00:...|2017-08-28T00:00:00Z|               NULL|               NULL|      NULL|              NULL|             3|https://www.amazo...|I order 3 of them...|... 3 of them and...|      Byger yang|https://www.barco...|\n",
            "|AVpgNzjwLJeJML43Kpxn|2015-10-30T08:59:32Z|2019-04-25T09:08:16Z|AmazonBasics AAA ...|B00QWO9P0O,B00LH3...|Amazonbasics|AA,AAA,Health,Ele...|  Health & Beauty|https://images-na...|amazonbasics/hl00...|AmazonBasics|         HL-002619|2016-08-31T00:00:...|2017-08-28T00:00:00Z|               NULL|               NULL|      NULL|              NULL|             4|https://www.amazo...|Bulk is always th...|... always the le...|            ByMG|https://www.barco...|\n",
            "|AVpgNzjwLJeJML43Kpxn|2015-10-30T08:59:32Z|2019-04-25T09:08:16Z|AmazonBasics AAA ...|B00QWO9P0O,B00LH3...|Amazonbasics|AA,AAA,Health,Ele...|  Health & Beauty|https://images-na...|amazonbasics/hl00...|AmazonBasics|         HL-002619|2016-12-06T00:00:...|2017-08-28T00:00:00Z|               NULL|               NULL|      NULL|              NULL|             5|https://www.amazo...|Well they are not...|... are not Durac...|BySharon Lambert|https://www.barco...|\n",
            "|AVpgNzjwLJeJML43Kpxn|2015-10-30T08:59:32Z|2019-04-25T09:08:16Z|AmazonBasics AAA ...|B00QWO9P0O,B00LH3...|Amazonbasics|AA,AAA,Health,Ele...|  Health & Beauty|https://images-na...|amazonbasics/hl00...|AmazonBasics|         HL-002619|2016-03-28T00:00:...|2017-08-28T00:00:00Z|               NULL|               NULL|      NULL|              NULL|             5|https://www.amazo...|Seem to work as w...|... as well as na...|   Bymark sexson|https://www.barco...|\n",
            "|AVpgNzjwLJeJML43Kpxn|2015-10-30T08:59:32Z|2019-04-25T09:08:16Z|AmazonBasics AAA ...|B00QWO9P0O,B00LH3...|Amazonbasics|AA,AAA,Health,Ele...|  Health & Beauty|https://images-na...|amazonbasics/hl00...|AmazonBasics|         HL-002619|2017-04-22T00:00:...|2017-08-28T00:00:00Z|               NULL|               NULL|      NULL|              NULL|             5|https://www.amazo...|These batteries a...|... batteries are...|         Bylinda|https://www.barco...|\n",
            "+--------------------+--------------------+--------------------+--------------------+--------------------+------------+--------------------+-----------------+--------------------+--------------------+------------+------------------+--------------------+--------------------+-------------------+-------------------+----------+------------------+--------------+--------------------+--------------------+--------------------+----------------+--------------------+\n",
            "only showing top 5 rows\n",
            "\n"
          ]
        }
      ]
    },
    {
      "cell_type": "code",
      "source": [
        "# Data Preprocessing\n",
        "\n",
        "from pyspark.sql.functions import col, lower, regexp_replace, length, length, trim, when, size\n",
        "from pyspark.ml.feature import Tokenizer, StopWordsRemover\n",
        "\n",
        "# Convert text to lowercase and remove punctuation\n",
        "df_cleaned = df.withColumn(\"`reviews.text`\", lower(col(\"`reviews.text`\")))\n",
        "df_cleaned = df_cleaned.withColumn(\"`reviews.text`\", regexp_replace(col(\"`reviews.text`\"), \"[^a-zA-Z0-9\\\\s]\", \"\"))\n",
        "\n",
        "# Tokenization\n",
        "tokenizer = Tokenizer(inputCol=\"`reviews.text`\", outputCol=\"tokens\")\n",
        "df_tokenized = tokenizer.transform(df_cleaned)\n",
        "\n",
        "# Remove stop words\n",
        "remover = StopWordsRemover(inputCol=\"tokens\", outputCol=\"filtered_tokens\")\n",
        "df_filtered = remover.transform(df_tokenized)\n",
        "\n",
        "# Filter Reviews by Ratings\n",
        "df_positive = df_filtered.filter(col(\"`reviews.rating`\") >= 4)\n",
        "df_negative = df_filtered.filter(col(\"`reviews.rating`\") <= 2)\n",
        "\n",
        "# Filter out NULL and empty values in review_body\n",
        "df_filtered = df_filtered.filter(col(\"`reviews.text`\").isNotNull())\n",
        "df_filtered = df_filtered.filter(length(trim(col(\"`reviews.text`\"))) > 0)\n",
        "\n",
        "# Add Sentiment Column\n",
        "df_filtered = df_filtered.withColumn(\n",
        "    \"sentiment\",\n",
        "    when(col(\"`reviews.rating`\") >= 4, \"positive\")\n",
        "    .when(col(\"`reviews.rating`\") <= 2, \"negative\")\n",
        "    .otherwise(\"neutral\")\n",
        ")\n",
        "\n",
        "# Remove rows with empty filtered_tokens\n",
        "df_filtered = df_filtered.filter(size(col(\"filtered_tokens\")) > 0)\n"
      ],
      "metadata": {
        "id": "dhtzmmfzR1jM"
      },
      "execution_count": 4,
      "outputs": []
    },
    {
      "cell_type": "code",
      "source": [
        "from pyspark.sql.functions import col, lower, regexp_replace, when, size, concat_ws, round\n",
        "from pyspark.ml.feature import Tokenizer, StopWordsRemover, CountVectorizer, HashingTF, IDF, NGram\n",
        "from pyspark.ml.classification import LogisticRegression, RandomForestClassifier\n",
        "from pyspark.ml.evaluation import MulticlassClassificationEvaluator\n",
        "\n",
        "# Data Loading\n",
        "\n",
        "# Feature Extraction\n",
        "\n",
        "# The accuracy using CountVectorizer as Feature Extraction gives us 88% accuracy,\n",
        "# in order to improve the accuracy we used Term-Frequency Feature Extraction\n",
        "\n",
        "# cv = CountVectorizer(inputCol=\"filtered_tokens\", outputCol=\"key_phrases\", vocabSize=50)\n",
        "# cv_model = cv.fit(train_data)\n",
        "\n",
        "# # Transform both training and testing data\n",
        "# train_transformed = cv_model.transform(train_data)\n",
        "# test_transformed = cv_model.transform(test_data)\n",
        "\n",
        "# # Step 3: Train a Classifier\n",
        "# # Add numeric labels for sentiment\n",
        "# train_transformed = train_transformed.withColumn(\n",
        "#     \"label\",\n",
        "#     when(col(\"sentiment\") == \"positive\", 1.0)\n",
        "#     .when(col(\"sentiment\") == \"negative\", 0.0)\n",
        "#     .otherwise(2.0)  # Neutral\n",
        "# )\n",
        "\n",
        "# test_transformed = test_transformed.withColumn(\n",
        "#     \"label\",\n",
        "#     when(col(\"sentiment\") == \"positive\", 1.0)\n",
        "#     .when(col(\"sentiment\") == \"negative\", 0.0)\n",
        "#     .otherwise(2.0)  # Neutral\n",
        "# )\n",
        "\n",
        "# Feature Extraction with N-Grams\n",
        "ngram = NGram(n=2, inputCol=\"filtered_tokens\", outputCol=\"key_phrases\")\n",
        "df_with_ngrams = ngram.transform(df_filtered)\n",
        "\n",
        "# TF Feature Extraction\n",
        "hashing_tf = HashingTF(inputCol=\"key_phrases\", outputCol=\"tf_features\")\n",
        "tf_data = hashing_tf.transform(df_with_ngrams)\n",
        "\n",
        "# IDF Feature Extraction\n",
        "idf = IDF(inputCol=\"tf_features\", outputCol=\"tfidf_features\")\n",
        "idf_model = idf.fit(tf_data)  # Fit on train data\n",
        "df_with_features = idf_model.transform(tf_data)\n",
        "\n",
        "train_data_tfidf, test_data_tfidf = df_with_features.randomSplit([0.8, 0.2], seed=42)\n",
        "\n",
        "# Add numeric labels for sentiment\n",
        "train_data_tfidf = train_data_tfidf.withColumn(\n",
        "    \"label\",\n",
        "    when(col(\"sentiment\") == \"positive\", 1.0)\n",
        "    .when(col(\"sentiment\") == \"negative\", 0.0)\n",
        "    .otherwise(2.0)  # Neutral\n",
        ")\n",
        "\n",
        "test_data_tfidf = test_data_tfidf.withColumn(\n",
        "    \"label\",\n",
        "    when(col(\"sentiment\") == \"positive\", 1.0)\n",
        "    .when(col(\"sentiment\") == \"negative\", 0.0)\n",
        "    .otherwise(2.0)  # Neutral\n",
        ")\n",
        "\n",
        "# Train a Logistic Regression Model\n",
        "lr = LogisticRegression(featuresCol=\"tfidf_features\", labelCol=\"label\")\n",
        "lr_model = lr.fit(train_data_tfidf)\n",
        "\n",
        "\n",
        "# Step 4: Make Predictions\n",
        "predictions = lr_model.transform(test_data_tfidf)\n",
        "\n",
        "# Step 5: Evaluate the Model\n",
        "evaluator = MulticlassClassificationEvaluator(\n",
        "    labelCol=\"label\", predictionCol=\"prediction\", metricName=\"accuracy\"\n",
        ")\n",
        "accuracy = evaluator.evaluate(predictions)\n",
        "\n",
        "# Print Predictions and Accuracy\n",
        "predictions.select(\"primaryCategories\", \"sentiment\", \"prediction\").show(10, truncate=False)\n",
        "print(f\"Model Accuracy: {accuracy:.2f}\")\n"
      ],
      "metadata": {
        "colab": {
          "base_uri": "https://localhost:8080/"
        },
        "id": "gQmPQsAcTIc6",
        "outputId": "89d7862c-040d-4e1a-db24-47bbb78d7d1c"
      },
      "execution_count": 7,
      "outputs": [
        {
          "output_type": "stream",
          "name": "stdout",
          "text": [
            "+-----------------+---------+----------+\n",
            "|primaryCategories|sentiment|prediction|\n",
            "+-----------------+---------+----------+\n",
            "|Electronics,Media|positive |1.0       |\n",
            "|Electronics      |positive |1.0       |\n",
            "|Electronics      |positive |1.0       |\n",
            "|Electronics      |negative |1.0       |\n",
            "|Electronics      |positive |0.0       |\n",
            "|Health & Beauty  |positive |1.0       |\n",
            "|Health & Beauty  |positive |1.0       |\n",
            "|Health & Beauty  |positive |2.0       |\n",
            "|Health & Beauty  |negative |0.0       |\n",
            "|Health & Beauty  |positive |1.0       |\n",
            "+-----------------+---------+----------+\n",
            "only showing top 10 rows\n",
            "\n",
            "Model Accuracy: 0.91\n"
          ]
        }
      ]
    },
    {
      "cell_type": "code",
      "source": [
        "print(f\"Model Accuracy: {accuracy:.2f}\")"
      ],
      "metadata": {
        "colab": {
          "base_uri": "https://localhost:8080/"
        },
        "id": "YNiDuvPmVD-P",
        "outputId": "2aebe4ca-223c-4d25-dc7f-a9fec718dc36"
      },
      "execution_count": 8,
      "outputs": [
        {
          "output_type": "stream",
          "name": "stdout",
          "text": [
            "Model Accuracy: 0.91\n"
          ]
        }
      ]
    },
    {
      "cell_type": "code",
      "source": [
        "from pyspark.sql.functions import concat_ws\n",
        "\n",
        "# Combine tokens back to sentences\n",
        "df_filtered = df_filtered.withColumn(\"summary\", concat_ws(\" \", col(\"filtered_tokens\")))\n",
        "\n",
        "# Summaries for each sentiment\n",
        "df_positive_summary = df_filtered.filter(col(\"sentiment\") == \"positive\").select(\"summary\").show(10, truncate=False)\n",
        "df_negative_summary = df_filtered.filter(col(\"sentiment\") == \"negative\").select(\"summary\").show(10, truncate=False)"
      ],
      "metadata": {
        "colab": {
          "base_uri": "https://localhost:8080/"
        },
        "id": "jfvQCxQgVHdk",
        "outputId": "0c3fd794-5bf0-4750-c71e-cf291597c6cb"
      },
      "execution_count": 9,
      "outputs": [
        {
          "output_type": "stream",
          "name": "stdout",
          "text": [
            "+--------------------------------------------------------------------------------------------------------------------------------------------------------------------+\n",
            "|summary                                                                                                                                                             |\n",
            "+--------------------------------------------------------------------------------------------------------------------------------------------------------------------+\n",
            "|bulk always less expensive way go products like                                                                                                                     |\n",
            "|well duracell price happy.                                                                                                                                          |\n",
            "|seem work well name brand batteries much better price                                                                                                               |\n",
            "|batteries long lasting price great.                                                                                                                                 |\n",
            "|bought lot batteries christmas amazonbasics cell good. noticed difference brand name batteries amazon basic brand. lot easier purchase arrive house hand. buy again.|\n",
            "|ive problame batteries ordered past pleased.                                                                                                                        |\n",
            "|well looking cheap non-rechargeable batteries last quite perfect. nothing say.                                                                                      |\n",
            "|amazonbasics aa aaa batteries done well appear good shelf life. buy again.                                                                                          |\n",
            "|find amazon basics batteries equal superior name brand ones. believe start buying sooner! packages large price great too.                                           |\n",
            "|use fish tank's light night works great, love easily switch want guests there.                                                                                      |\n",
            "+--------------------------------------------------------------------------------------------------------------------------------------------------------------------+\n",
            "only showing top 10 rows\n",
            "\n",
            "+-------------------------------------------------------------------------------------------------------------------------------------------------------------------------------------------------------------------------------------------------------------------------------------------------------------+\n",
            "|summary                                                                                                                                                                                                                                                                                                      |\n",
            "+-------------------------------------------------------------------------------------------------------------------------------------------------------------------------------------------------------------------------------------------------------------------------------------------------------------+\n",
            "|know buy thus brand seems like last long duracell                                                                                                                                                                                                                                                            |\n",
            "|opinion last anywhere near long duracel things like led candles (which crazy) trail cameras. cameras exposed cold temps less batteries. buy bulk north house. amazon basics great things like sheets beeding towels. opinion battery life, large package aaa aa size purchased lacking.                      |\n",
            "|last long cheap batteries happy                                                                                                                                                                                                                                                                              |\n",
            "|batteries horrible. depend aa batteries many wireless microphone found brand-name batteries last month per usage. switched amazon basics try subscription preferred brand longer available found that, usage, batteries last week. 1/4 capacity.                                                             |\n",
            "|first time bought worked well lasted almost long name brands. time around, almost charge - 4-6 hours run time - junk batteries.                                                                                                                                                                              |\n",
            "|batteries last even simple digital clock. 2 weeks best.                                                                                                                                                                                                                                                      |\n",
            "|date back 1992. yeah, 1992. inedible.                                                                                                                                                                                                                                                                        |\n",
            "|battery storage life lasted 8 months (stored indoors).                                                                                                                                                                                                                                                       |\n",
            "|possible gotten dud batch sure got it. blew batteries less month. kids toys super powered even remotes change batteries way often. example magic touch counting toy, store batteries lasted 3 years. popped amazon batteries, 1 month second child play nearly much first. price worth try going back brands.|\n",
            "|use indoor flameless candles even then, dont last long...a little disappointed...                                                                                                                                                                                                                            |\n",
            "+-------------------------------------------------------------------------------------------------------------------------------------------------------------------------------------------------------------------------------------------------------------------------------------------------------------+\n",
            "only showing top 10 rows\n",
            "\n"
          ]
        }
      ]
    },
    {
      "cell_type": "code",
      "source": [
        "insights = df_filtered.groupBy(\"primaryCategories\", \"sentiment\").count()\n",
        "insights.show()"
      ],
      "metadata": {
        "colab": {
          "base_uri": "https://localhost:8080/"
        },
        "id": "8d_eYPy4VPey",
        "outputId": "0b898042-b371-4393-c00c-c44cf534d846"
      },
      "execution_count": 10,
      "outputs": [
        {
          "output_type": "stream",
          "name": "stdout",
          "text": [
            "+--------------------+---------+-----+\n",
            "|   primaryCategories|sentiment|count|\n",
            "+--------------------+---------+-----+\n",
            "|         Electronics| negative|  434|\n",
            "|Computers,Electro...|  neutral|    2|\n",
            "|   Electronics,Media|  neutral|    3|\n",
            "|     Health & Beauty| negative| 1146|\n",
            "|Computers,Electro...| positive|    2|\n",
            "|Fire Tablets,Comp...| positive|    1|\n",
            "|Office Supplies,E...|  neutral|   36|\n",
            "|Office Supplies,E...| positive|  605|\n",
            "|   Electronics,Media| negative|    5|\n",
            "|Electronics,Furni...| positive|    2|\n",
            "|Animals & Pet Sup...|  neutral|    1|\n",
            "|         Electronics|  neutral|  654|\n",
            "|     Health & Beauty| positive|10390|\n",
            "|   Electronics,Media| positive|  201|\n",
            "|Toys & Games,Elec...| positive| 1529|\n",
            "|     Health & Beauty|  neutral|  533|\n",
            "|Fire Tablets,Comp...| negative|   81|\n",
            "|Computers,Electro...| negative|   13|\n",
            "|       Home & Garden| positive|    2|\n",
            "|Animals & Pet Sup...| positive|    5|\n",
            "+--------------------+---------+-----+\n",
            "only showing top 20 rows\n",
            "\n"
          ]
        }
      ]
    },
    {
      "cell_type": "code",
      "source": [
        "from pyspark.sql.functions import col, round\n",
        "\n",
        "# Group by product_category and calculate total reviews\n",
        "total_reviews = df_filtered.groupBy(\"primaryCategories\").count().withColumnRenamed(\"count\", \"total_count\")\n",
        "\n",
        "# Join insights with total_reviews on product_category\n",
        "insights_with_totals = insights.join(total_reviews, on=\"primaryCategories\", how=\"inner\")\n",
        "\n",
        "# Add the percentage column\n",
        "sentiment_stats = insights_with_totals.withColumn(\n",
        "    \"percentage\",\n",
        "    round((col(\"count\") / col(\"total_count\")) * 100, 2)\n",
        ")\n",
        "\n",
        "# Show the result\n",
        "sentiment_stats.show()"
      ],
      "metadata": {
        "colab": {
          "base_uri": "https://localhost:8080/"
        },
        "id": "HvJU1Lq0Vo6P",
        "outputId": "78477f7b-8419-492b-90b4-7299be69c51c"
      },
      "execution_count": 11,
      "outputs": [
        {
          "output_type": "stream",
          "name": "stdout",
          "text": [
            "+--------------------+---------+-----+-----------+----------+\n",
            "|   primaryCategories|sentiment|count|total_count|percentage|\n",
            "+--------------------+---------+-----+-----------+----------+\n",
            "|Electronics,Furni...| positive|    2|          2|     100.0|\n",
            "|Office Supplies,E...| negative|   10|        651|      1.54|\n",
            "|Office Supplies,E...| positive|  605|        651|     92.93|\n",
            "|Office Supplies,E...|  neutral|   36|        651|      5.53|\n",
            "|         Electronics| positive|14905|      15993|      93.2|\n",
            "|         Electronics|  neutral|  654|      15993|      4.09|\n",
            "|         Electronics| negative|  434|      15993|      2.71|\n",
            "|       Home & Garden| positive|    2|          2|     100.0|\n",
            "|   Electronics,Media| positive|  201|        209|     96.17|\n",
            "|   Electronics,Media| negative|    5|        209|      2.39|\n",
            "|   Electronics,Media|  neutral|    3|        209|      1.44|\n",
            "|Toys & Games,Elec...| negative|   54|       1676|      3.22|\n",
            "|Toys & Games,Elec...|  neutral|   93|       1676|      5.55|\n",
            "|Toys & Games,Elec...| positive| 1529|       1676|     91.23|\n",
            "|     Office Supplies| positive|    9|          9|     100.0|\n",
            "|     Health & Beauty|  neutral|  533|      12069|      4.42|\n",
            "|     Health & Beauty| positive|10390|      12069|     86.09|\n",
            "|     Health & Beauty| negative| 1146|      12069|       9.5|\n",
            "|Animals & Pet Sup...| positive|    5|          6|     83.33|\n",
            "|Animals & Pet Sup...|  neutral|    1|          6|     16.67|\n",
            "+--------------------+---------+-----+-----------+----------+\n",
            "only showing top 20 rows\n",
            "\n"
          ]
        }
      ]
    },
    {
      "cell_type": "code",
      "source": [
        "# Summarized Dataset\n",
        "\n",
        "from pyspark.sql.functions import concat_ws\n",
        "from google.colab import files\n",
        "\n",
        "df_summarized = df_with_ngrams.withColumn(\"summarized_feedback\", concat_ws(\" \", col(\"filtered_tokens\")))\n",
        "df_summarized = df_summarized.withColumn(\"key_phrases\", concat_ws(\", \", col(\"key_phrases\")))\n",
        "\n",
        "\n",
        "# Select required columns: key_phrases, summarized_feedback, and sentiment\n",
        "df_final = df_summarized.select(\"key_phrases\", \"summarized_feedback\", \"sentiment\")\n",
        "\n",
        "# Show a sample of the resulting dataset\n",
        "df_final.show(20, truncate=False)"
      ],
      "metadata": {
        "colab": {
          "base_uri": "https://localhost:8080/"
        },
        "id": "m4EA0R6t0VA1",
        "outputId": "4e706a54-8495-4fe4-8603-e7d5afc5e065"
      },
      "execution_count": 13,
      "outputs": [
        {
          "output_type": "stream",
          "name": "stdout",
          "text": [
            "+------------------------------------------------------------------------------------------------------------------------------------------------------------------------------------------------------------------------------------------------------------------------------------------------------------------------------------------------------------------------------------------------------------------------------------------------------------------------------------------------------------------------------------------------------------------------------------------------------+---------------------------------------------------------------------------------------------------------------------------------------------------------------------------------------------------------------------------------------------------------------------------------------+---------+\n",
            "|key_phrases                                                                                                                                                                                                                                                                                                                                                                                                                                                                                                                                                                                           |summarized_feedback                                                                                                                                                                                                                                                                    |sentiment|\n",
            "+------------------------------------------------------------------------------------------------------------------------------------------------------------------------------------------------------------------------------------------------------------------------------------------------------------------------------------------------------------------------------------------------------------------------------------------------------------------------------------------------------------------------------------------------------------------------------------------------------+---------------------------------------------------------------------------------------------------------------------------------------------------------------------------------------------------------------------------------------------------------------------------------------+---------+\n",
            "|order 3, 3 one, one item, item bad, bad quality., quality. missing, missing backup, backup spring, spring put, put pcs, pcs aluminum, aluminum make, make battery, battery work.                                                                                                                                                                                                                                                                                                                                                                                                                      |order 3 one item bad quality. missing backup spring put pcs aluminum make battery work.                                                                                                                                                                                                |neutral  |\n",
            "|bulk always, always less, less expensive, expensive way, way go, go products, products like                                                                                                                                                                                                                                                                                                                                                                                                                                                                                                           |bulk always less expensive way go products like                                                                                                                                                                                                                                        |positive |\n",
            "|well duracell, duracell price, price happy.                                                                                                                                                                                                                                                                                                                                                                                                                                                                                                                                                           |well duracell price happy.                                                                                                                                                                                                                                                             |positive |\n",
            "|seem work, work well, well name, name brand, brand batteries, batteries much, much better, better price                                                                                                                                                                                                                                                                                                                                                                                                                                                                                               |seem work well name brand batteries much better price                                                                                                                                                                                                                                  |positive |\n",
            "|batteries long, long lasting, lasting price, price great.                                                                                                                                                                                                                                                                                                                                                                                                                                                                                                                                             |batteries long lasting price great.                                                                                                                                                                                                                                                    |positive |\n",
            "|bought lot, lot batteries, batteries christmas, christmas amazonbasics, amazonbasics cell, cell good., good. noticed, noticed difference, difference brand, brand name, name batteries, batteries amazon, amazon basic, basic brand., brand. lot, lot easier, easier purchase, purchase arrive, arrive house, house hand., hand. buy, buy again.                                                                                                                                                                                                                                                      |bought lot batteries christmas amazonbasics cell good. noticed difference brand name batteries amazon basic brand. lot easier purchase arrive house hand. buy again.                                                                                                                   |positive |\n",
            "|ive problame, problame batteries, batteries ordered, ordered past, past pleased.                                                                                                                                                                                                                                                                                                                                                                                                                                                                                                                      |ive problame batteries ordered past pleased.                                                                                                                                                                                                                                           |positive |\n",
            "|well looking, looking cheap, cheap non-rechargeable, non-rechargeable batteries, batteries last, last quite, quite perfect., perfect. nothing, nothing say.                                                                                                                                                                                                                                                                                                                                                                                                                                           |well looking cheap non-rechargeable batteries last quite perfect. nothing say.                                                                                                                                                                                                         |positive |\n",
            "|hold amount, amount high, high power, power juice, juice like, like energizer, energizer duracell,, duracell, half, half price.                                                                                                                                                                                                                                                                                                                                                                                                                                                                       |hold amount high power juice like energizer duracell, half price.                                                                                                                                                                                                                      |neutral  |\n",
            "|amazonbasics aa, aa aaa, aaa batteries, batteries done, done well, well appear, appear good, good shelf, shelf life., life. buy, buy again.                                                                                                                                                                                                                                                                                                                                                                                                                                                           |amazonbasics aa aaa batteries done well appear good shelf life. buy again.                                                                                                                                                                                                             |positive |\n",
            "|find amazon, amazon basics, basics batteries, batteries equal, equal superior, superior name, name brand, brand ones., ones. believe, believe start, start buying, buying sooner!, sooner! packages, packages large, large price, price great, great too.                                                                                                                                                                                                                                                                                                                                             |find amazon basics batteries equal superior name brand ones. believe start buying sooner! packages large price great too.                                                                                                                                                              |positive |\n",
            "|first started, started getting, getting amazon, amazon basic, basic batteries, batteries really, really liked, liked them., them. recent, recent purchases,, purchases, seem, seem last, last like, like had,, had, maybe, maybe mixed-bag, mixed-bag (inconsistent, (inconsistent lasting, lasting better, better others)., others). done, done tests,, tests, feel, feel brands, brands may, may last, last longer., longer. however,, however, price, price hard, hard beat.                                                                                                                       |first started getting amazon basic batteries really liked them. recent purchases, seem last like had, maybe mixed-bag (inconsistent lasting better others). done tests, feel brands may last longer. however, price hard beat.                                                         |neutral  |\n",
            "|use fish, fish tank's, tank's light, light night, night works, works great,, great, love, love easily, easily switch, switch want, want guests, guests there.                                                                                                                                                                                                                                                                                                                                                                                                                                         |use fish tank's light night works great, love easily switch want guests there.                                                                                                                                                                                                         |positive |\n",
            "|got em, em really, really comment, comment good, good job,, job, good, good price,, price, quick, quick delivery, delivery put, put two, two one, one keyboards, keyboards go, go year, year say, say three, three days                                                                                                                                                                                                                                                                                                                                                                               |got em really comment good job, good price, quick delivery put two one keyboards go year say three days                                                                                                                                                                                |positive |\n",
            "|many things, things need, need aa, aa battery, battery great                                                                                                                                                                                                                                                                                                                                                                                                                                                                                                                                          |many things need aa battery great                                                                                                                                                                                                                                                      |positive |\n",
            "|thankful able, able find, find amazon, amazon great, great price, price even, even better, better shipping., shipping. arrived, arrived perfect, perfect condition, condition exactly, exactly needed, needed to., to. great, great purchase, purchase purchase, purchase again.                                                                                                                                                                                                                                                                                                                      |thankful able find amazon great price even better shipping. arrived perfect condition exactly needed to. great purchase purchase again.                                                                                                                                                |positive |\n",
            "|know buy, buy thus, thus brand, brand seems, seems like, like last, last long, long duracell                                                                                                                                                                                                                                                                                                                                                                                                                                                                                                          |know buy thus brand seems like last long duracell                                                                                                                                                                                                                                      |negative |\n",
            "|opinion last, last anywhere, anywhere near, near long, long duracel, duracel things, things like, like led, led candles, candles (which, (which crazy), crazy) trail, trail cameras., cameras. cameras, cameras exposed, exposed cold, cold temps, temps less, less batteries., batteries. buy, buy bulk, bulk north, north house., house. amazon, amazon basics, basics great, great things, things like, like sheets, sheets beeding, beeding towels., towels. opinion, opinion battery, battery life,, life, large, large package, package aaa, aaa aa, aa size, size purchased, purchased lacking.|opinion last anywhere near long duracel things like led candles (which crazy) trail cameras. cameras exposed cold temps less batteries. buy bulk north house. amazon basics great things like sheets beeding towels. opinion battery life, large package aaa aa size purchased lacking.|negative |\n",
            "|last long, long brand, brand name, name good, good enough, enough considering, considering much, much cheaper.                                                                                                                                                                                                                                                                                                                                                                                                                                                                                        |last long brand name good enough considering much cheaper.                                                                                                                                                                                                                             |positive |\n",
            "|bought batteries, batteries christmas, christmas gifts, gifts month, month (december), (december) lasted, lasted like, like 2months, 2months toys, toys need, need replacement, replacement batteries, batteries ., . also, also used, used doorbell, doorbell needs, needs replacement, replacement batteries., batteries. tv, tv remote, remote control, control still, still working, working batteries, batteries last, last long...                                                                                                                                                              |bought batteries christmas gifts month (december) lasted like 2months toys need replacement batteries . also used doorbell needs replacement batteries. tv remote control still working batteries last long...                                                                         |neutral  |\n",
            "+------------------------------------------------------------------------------------------------------------------------------------------------------------------------------------------------------------------------------------------------------------------------------------------------------------------------------------------------------------------------------------------------------------------------------------------------------------------------------------------------------------------------------------------------------------------------------------------------------+---------------------------------------------------------------------------------------------------------------------------------------------------------------------------------------------------------------------------------------------------------------------------------------+---------+\n",
            "only showing top 20 rows\n",
            "\n"
          ]
        }
      ]
    }
  ]
}